{
 "cells": [
  {
   "cell_type": "code",
   "execution_count": 2,
   "id": "b314fdc9",
   "metadata": {},
   "outputs": [
    {
     "data": {
      "text/plain": [
       "'\\n\\nCarga y muestreo de datos\\nTemario: Intervenciones de seguirdad vial y los reclamos que se obtuvieron de estas mismas.\\n\\n'"
      ]
     },
     "execution_count": 2,
     "metadata": {},
     "output_type": "execute_result"
    }
   ],
   "source": [
    "'''\n",
    "\n",
    "Carga y muestreo de datos\n",
    "Temario: Intervenciones de seguirdad vial y los reclamos que se obtuvieron de estas mismas.\n",
    "\n",
    "'''\n"
   ]
  },
  {
   "cell_type": "code",
   "execution_count": 3,
   "id": "2a6c7eb6",
   "metadata": {
    "scrolled": false
   },
   "outputs": [
    {
     "name": "stdout",
     "output_type": "stream",
     "text": [
      "\n",
      "            Intervenciones de seguridad vial\n",
      "    \n",
      "(7579, 15)\n",
      "          fecha  hora         autopista banda_y_o_ramal    pk  \\\n",
      "0      1/1/2014     1        AU CAMPORA      ASCENDENTE   600   \n",
      "1      1/1/2014     3     AU DELLEPIANE     DESCENDENTE   600   \n",
      "2      1/1/2014    22     AU 25 DE MAYO      ASCENDENTE  5900   \n",
      "3      1/3/2014     7        AU CAMPORA     DESCENDENTE   600   \n",
      "4      1/3/2014    21  AU PERTIO MORENO     DESCENDENTE  5400   \n",
      "...         ...   ...               ...             ...   ...   \n",
      "7574  30/3/2022    12       AV. LUGONES     DESCENDENTE  4500   \n",
      "7575  30/3/2022    13       AU FRONDIZI     DESCENDENTE  2500   \n",
      "7576  31/3/2022     8     AU 25 DE MAYO      ASCENDENTE  6600   \n",
      "7577  31/3/2022    13       AU FRONDIZI      ASCENDENTE  1900   \n",
      "7578  31/3/2022    17       AV. CANTILO      ASCENDENTE  9700   \n",
      "\n",
      "     condiciones_meteorologicas superficie_de_la_via lesionados  fallecidos  \\\n",
      "0                         BUENO                 SECA          1           0   \n",
      "1                         BUENO                 SECA          0           0   \n",
      "2                         BUENO                 SECA          8           0   \n",
      "3                         BUENO                 SECA          0           0   \n",
      "4                         BUENO                 SECA          1           0   \n",
      "...                         ...                  ...        ...         ...   \n",
      "7574                      BUENO                 SECA          1           0   \n",
      "7575                      BUENO                 SECA          2           0   \n",
      "7576                      BUENO                 SECA          1           0   \n",
      "7577                      BUENO                 SECA          0           0   \n",
      "7578                      BUENO                 SECA          0           1   \n",
      "\n",
      "                     tipo_de_siniestro moto  liviano  bus  camion  Unnamed: 14  \n",
      "0          COLISION CON OBSTACULO FIJO    0        1    0       0          NaN  \n",
      "1          COLISION CON OBSTACULO FIJO    0        1    0       0          NaN  \n",
      "2     COLISION CON DOS O MAS VEHICULOS    0        2    0       0          NaN  \n",
      "3                    OBSTACULO NO FIJO    0        0    0       1          NaN  \n",
      "4          COLISION CON OBSTACULO FIJO    0        2    0       0          NaN  \n",
      "...                                ...  ...      ...  ...     ...          ...  \n",
      "7574  COLISION CON DOS O MAS VEHICULOS    1        1    0       0       2022.0  \n",
      "7575  COLISION CON DOS O MAS VEHICULOS    0        3    0       1       2022.0  \n",
      "7576  COLISION CON DOS O MAS VEHICULOS    1        2    0       1       2022.0  \n",
      "7577  COLISION CON DOS O MAS VEHICULOS    0        1    1       0       2022.0  \n",
      "7578  COLISION CON DOS O MAS VEHICULOS    1        0    0       1       2022.0  \n",
      "\n",
      "[7579 rows x 15 columns]\n",
      "--------------------------------------------------------------------------------\n",
      "\n",
      "            Reclamos AUSA\n",
      "    \n",
      "(5659, 3)\n",
      "       nro_caso                                        tItulo_caso  \\\n",
      "0     C00126163                   RECLAMOS/VUELTO ERRONEO/FALTANTE   \n",
      "1     C00126165        RECLAMOS/DAÑO DEL VEHICULO SOBRE AU./OBJETO   \n",
      "2     C00126167             RECLAMOS/DAÑO EN VIA DE PEAJE/VIA 07 A   \n",
      "3     C00126169  RECLAMOS/DAÑO DEL VEHICULO SOBRE AU./AGRESIÓN ...   \n",
      "4     C00126171         QUEJAS/TELEPEAJE/DISPOSICIONES DE SERVICIO   \n",
      "...         ...                                                ...   \n",
      "5654  C00136954                  QUEJAS/MALA ATENCION/A completar    \n",
      "5655  C00136955                     QUEJAS/EN GENERAL/A completar    \n",
      "5656  C00136956               RECLAMOS/VUELTO ERRONEO/A completar    \n",
      "5657  C00136957                          QUEJAS/PEAJE/A completar    \n",
      "5658  C00136958                     QUEJAS/EN GENERAL/A completar    \n",
      "\n",
      "                    fecha  \n",
      "0     2016-12-01 15:47:26  \n",
      "1     2016-12-01 16:01:31  \n",
      "2     2016-12-01 16:13:41  \n",
      "3     2016-12-01 16:35:22  \n",
      "4     2016-12-01 17:15:12  \n",
      "...                   ...  \n",
      "5654  2019-04-20 10:00:21  \n",
      "5655  2019-04-20 15:00:24  \n",
      "5656  2019-04-22 11:00:24  \n",
      "5657  2019-04-23 10:30:10  \n",
      "5658  2019-04-23 10:30:20  \n",
      "\n",
      "[5659 rows x 3 columns]\n",
      "--------------------------------------------------------------------------------\n",
      "\n",
      "        La cantidad total de fallecidos debido a un accidente vial es de: 72  \n",
      "    \n",
      "--------------------------------------------------------------------------------\n",
      "\n",
      "        La cantidad maxima de fallecidos debido a un accidente vial es de: 3  \n",
      "    \n"
     ]
    }
   ],
   "source": [
    "import pandas\n",
    "filename = 'intervenciones-de-seguridad-vial.csv'\n",
    "filename2 = 'reclamos-ausa.xlsx'\n",
    "data = pandas.read_csv(filename, header=0)\n",
    "data2=pandas.read_excel(filename2, header=0)\n",
    "\n",
    "print('''\n",
    "            Intervenciones de seguridad vial\n",
    "    ''')\n",
    "print(data.shape)\n",
    "print (data)\n",
    "print('-'*80)\n",
    "print('''\n",
    "            Reclamos AUSA\n",
    "    ''')\n",
    "print(data2.shape)\n",
    "print (data2)\n",
    "\n",
    "print('-'*80)\n",
    "totalFallecidos=data['fallecidos'].sum()\n",
    "print(f'''\n",
    "        La cantidad total de fallecidos debido a un accidente vial es de: {totalFallecidos}  \n",
    "    ''')\n",
    "\n",
    "print('-'*80)\n",
    "\n",
    "maximaCantMuertos=data['fallecidos'].max()\n",
    "print(f'''\n",
    "        La cantidad maxima de fallecidos debido a un accidente vial es de: {maximaCantMuertos}  \n",
    "    ''')\n"
   ]
  },
  {
   "cell_type": "code",
   "execution_count": 4,
   "id": "698e307c",
   "metadata": {},
   "outputs": [
    {
     "name": "stdout",
     "output_type": "stream",
     "text": [
      "\n",
      "        La cantidad total de fallecidos debido a un accidente vial es de: 72  \n",
      "    \n",
      "--------------------------------------------------------------------------------\n",
      "\n",
      "        La cantidad maxima de fallecidos debido a un accidente vial es de: 3  \n",
      "    \n"
     ]
    }
   ],
   "source": [
    "totalFallecidos=data['fallecidos'].sum()\n",
    "print(f'''\n",
    "        La cantidad total de fallecidos debido a un accidente vial es de: {totalFallecidos}  \n",
    "    ''')\n",
    "\n",
    "print('-'*80)\n",
    "\n",
    "maximaCantMuertos=data['fallecidos'].max()\n",
    "print(f'''\n",
    "        La cantidad maxima de fallecidos debido a un accidente vial es de: {maximaCantMuertos}  \n",
    "    ''')\n"
   ]
  },
  {
   "cell_type": "code",
   "execution_count": 5,
   "id": "f9f1d876",
   "metadata": {},
   "outputs": [
    {
     "name": "stdout",
     "output_type": "stream",
     "text": [
      "\n",
      "        La media de fallecidos debido a un accidente vial es de: 0.0095  \n",
      "    \n",
      "--------------------------------------------------------------------------------\n",
      "\n",
      "        El percentil  25 del total de fallecidos debido a un accidente vial es de: 0.0  \n",
      "    \n"
     ]
    }
   ],
   "source": [
    "media=data['fallecidos'].mean()\n",
    "mediaAcortada=round(media, 4)\n",
    "print(f'''\n",
    "        La media de fallecidos debido a un accidente vial es de: {mediaAcortada}  \n",
    "    ''')\n",
    "\n",
    "print('-'*80)\n",
    "\n",
    "#percentil=data['fallecidos'].quantile(0.25)\n",
    "percentil=data.fallecidos.quantile(0.10)\n",
    "print(f'''\n",
    "        El percentil  25 del total de fallecidos debido a un accidente vial es de: {percentil}  \n",
    "    ''')\n"
   ]
  },
  {
   "cell_type": "code",
   "execution_count": 6,
   "id": "7d2f8b9f",
   "metadata": {},
   "outputs": [
    {
     "data": {
      "text/html": [
       "<div>\n",
       "<style scoped>\n",
       "    .dataframe tbody tr th:only-of-type {\n",
       "        vertical-align: middle;\n",
       "    }\n",
       "\n",
       "    .dataframe tbody tr th {\n",
       "        vertical-align: top;\n",
       "    }\n",
       "\n",
       "    .dataframe thead th {\n",
       "        text-align: right;\n",
       "    }\n",
       "</style>\n",
       "<table border=\"1\" class=\"dataframe\">\n",
       "  <thead>\n",
       "    <tr style=\"text-align: right;\">\n",
       "      <th></th>\n",
       "      <th>fecha</th>\n",
       "      <th>hora</th>\n",
       "      <th>autopista</th>\n",
       "      <th>banda_y_o_ramal</th>\n",
       "      <th>pk</th>\n",
       "      <th>condiciones_meteorologicas</th>\n",
       "      <th>superficie_de_la_via</th>\n",
       "      <th>lesionados</th>\n",
       "      <th>fallecidos</th>\n",
       "      <th>tipo_de_siniestro</th>\n",
       "      <th>moto</th>\n",
       "      <th>liviano</th>\n",
       "      <th>bus</th>\n",
       "      <th>camion</th>\n",
       "    </tr>\n",
       "  </thead>\n",
       "  <tbody>\n",
       "    <tr>\n",
       "      <th>0</th>\n",
       "      <td>1/1/2014</td>\n",
       "      <td>1</td>\n",
       "      <td>AU CAMPORA</td>\n",
       "      <td>ASCENDENTE</td>\n",
       "      <td>600</td>\n",
       "      <td>BUENO</td>\n",
       "      <td>SECA</td>\n",
       "      <td>1</td>\n",
       "      <td>0</td>\n",
       "      <td>COLISION CON OBSTACULO FIJO</td>\n",
       "      <td>0</td>\n",
       "      <td>1</td>\n",
       "      <td>0</td>\n",
       "      <td>0</td>\n",
       "    </tr>\n",
       "    <tr>\n",
       "      <th>1</th>\n",
       "      <td>1/1/2014</td>\n",
       "      <td>3</td>\n",
       "      <td>AU DELLEPIANE</td>\n",
       "      <td>DESCENDENTE</td>\n",
       "      <td>600</td>\n",
       "      <td>BUENO</td>\n",
       "      <td>SECA</td>\n",
       "      <td>0</td>\n",
       "      <td>0</td>\n",
       "      <td>COLISION CON OBSTACULO FIJO</td>\n",
       "      <td>0</td>\n",
       "      <td>1</td>\n",
       "      <td>0</td>\n",
       "      <td>0</td>\n",
       "    </tr>\n",
       "    <tr>\n",
       "      <th>2</th>\n",
       "      <td>1/1/2014</td>\n",
       "      <td>22</td>\n",
       "      <td>AU 25 DE MAYO</td>\n",
       "      <td>ASCENDENTE</td>\n",
       "      <td>5900</td>\n",
       "      <td>BUENO</td>\n",
       "      <td>SECA</td>\n",
       "      <td>8</td>\n",
       "      <td>0</td>\n",
       "      <td>COLISION CON DOS O MAS VEHICULOS</td>\n",
       "      <td>0</td>\n",
       "      <td>2</td>\n",
       "      <td>0</td>\n",
       "      <td>0</td>\n",
       "    </tr>\n",
       "    <tr>\n",
       "      <th>3</th>\n",
       "      <td>1/3/2014</td>\n",
       "      <td>7</td>\n",
       "      <td>AU CAMPORA</td>\n",
       "      <td>DESCENDENTE</td>\n",
       "      <td>600</td>\n",
       "      <td>BUENO</td>\n",
       "      <td>SECA</td>\n",
       "      <td>0</td>\n",
       "      <td>0</td>\n",
       "      <td>OBSTACULO NO FIJO</td>\n",
       "      <td>0</td>\n",
       "      <td>0</td>\n",
       "      <td>0</td>\n",
       "      <td>1</td>\n",
       "    </tr>\n",
       "    <tr>\n",
       "      <th>4</th>\n",
       "      <td>1/3/2014</td>\n",
       "      <td>21</td>\n",
       "      <td>AU PERTIO MORENO</td>\n",
       "      <td>DESCENDENTE</td>\n",
       "      <td>5400</td>\n",
       "      <td>BUENO</td>\n",
       "      <td>SECA</td>\n",
       "      <td>1</td>\n",
       "      <td>0</td>\n",
       "      <td>COLISION CON OBSTACULO FIJO</td>\n",
       "      <td>0</td>\n",
       "      <td>2</td>\n",
       "      <td>0</td>\n",
       "      <td>0</td>\n",
       "    </tr>\n",
       "    <tr>\n",
       "      <th>...</th>\n",
       "      <td>...</td>\n",
       "      <td>...</td>\n",
       "      <td>...</td>\n",
       "      <td>...</td>\n",
       "      <td>...</td>\n",
       "      <td>...</td>\n",
       "      <td>...</td>\n",
       "      <td>...</td>\n",
       "      <td>...</td>\n",
       "      <td>...</td>\n",
       "      <td>...</td>\n",
       "      <td>...</td>\n",
       "      <td>...</td>\n",
       "      <td>...</td>\n",
       "    </tr>\n",
       "    <tr>\n",
       "      <th>7574</th>\n",
       "      <td>30/3/2022</td>\n",
       "      <td>12</td>\n",
       "      <td>AV. LUGONES</td>\n",
       "      <td>DESCENDENTE</td>\n",
       "      <td>4500</td>\n",
       "      <td>BUENO</td>\n",
       "      <td>SECA</td>\n",
       "      <td>1</td>\n",
       "      <td>0</td>\n",
       "      <td>COLISION CON DOS O MAS VEHICULOS</td>\n",
       "      <td>1</td>\n",
       "      <td>1</td>\n",
       "      <td>0</td>\n",
       "      <td>0</td>\n",
       "    </tr>\n",
       "    <tr>\n",
       "      <th>7575</th>\n",
       "      <td>30/3/2022</td>\n",
       "      <td>13</td>\n",
       "      <td>AU FRONDIZI</td>\n",
       "      <td>DESCENDENTE</td>\n",
       "      <td>2500</td>\n",
       "      <td>BUENO</td>\n",
       "      <td>SECA</td>\n",
       "      <td>2</td>\n",
       "      <td>0</td>\n",
       "      <td>COLISION CON DOS O MAS VEHICULOS</td>\n",
       "      <td>0</td>\n",
       "      <td>3</td>\n",
       "      <td>0</td>\n",
       "      <td>1</td>\n",
       "    </tr>\n",
       "    <tr>\n",
       "      <th>7576</th>\n",
       "      <td>31/3/2022</td>\n",
       "      <td>8</td>\n",
       "      <td>AU 25 DE MAYO</td>\n",
       "      <td>ASCENDENTE</td>\n",
       "      <td>6600</td>\n",
       "      <td>BUENO</td>\n",
       "      <td>SECA</td>\n",
       "      <td>1</td>\n",
       "      <td>0</td>\n",
       "      <td>COLISION CON DOS O MAS VEHICULOS</td>\n",
       "      <td>1</td>\n",
       "      <td>2</td>\n",
       "      <td>0</td>\n",
       "      <td>1</td>\n",
       "    </tr>\n",
       "    <tr>\n",
       "      <th>7577</th>\n",
       "      <td>31/3/2022</td>\n",
       "      <td>13</td>\n",
       "      <td>AU FRONDIZI</td>\n",
       "      <td>ASCENDENTE</td>\n",
       "      <td>1900</td>\n",
       "      <td>BUENO</td>\n",
       "      <td>SECA</td>\n",
       "      <td>0</td>\n",
       "      <td>0</td>\n",
       "      <td>COLISION CON DOS O MAS VEHICULOS</td>\n",
       "      <td>0</td>\n",
       "      <td>1</td>\n",
       "      <td>1</td>\n",
       "      <td>0</td>\n",
       "    </tr>\n",
       "    <tr>\n",
       "      <th>7578</th>\n",
       "      <td>31/3/2022</td>\n",
       "      <td>17</td>\n",
       "      <td>AV. CANTILO</td>\n",
       "      <td>ASCENDENTE</td>\n",
       "      <td>9700</td>\n",
       "      <td>BUENO</td>\n",
       "      <td>SECA</td>\n",
       "      <td>0</td>\n",
       "      <td>1</td>\n",
       "      <td>COLISION CON DOS O MAS VEHICULOS</td>\n",
       "      <td>1</td>\n",
       "      <td>0</td>\n",
       "      <td>0</td>\n",
       "      <td>1</td>\n",
       "    </tr>\n",
       "  </tbody>\n",
       "</table>\n",
       "<p>7579 rows × 14 columns</p>\n",
       "</div>"
      ],
      "text/plain": [
       "          fecha  hora         autopista banda_y_o_ramal    pk  \\\n",
       "0      1/1/2014     1        AU CAMPORA      ASCENDENTE   600   \n",
       "1      1/1/2014     3     AU DELLEPIANE     DESCENDENTE   600   \n",
       "2      1/1/2014    22     AU 25 DE MAYO      ASCENDENTE  5900   \n",
       "3      1/3/2014     7        AU CAMPORA     DESCENDENTE   600   \n",
       "4      1/3/2014    21  AU PERTIO MORENO     DESCENDENTE  5400   \n",
       "...         ...   ...               ...             ...   ...   \n",
       "7574  30/3/2022    12       AV. LUGONES     DESCENDENTE  4500   \n",
       "7575  30/3/2022    13       AU FRONDIZI     DESCENDENTE  2500   \n",
       "7576  31/3/2022     8     AU 25 DE MAYO      ASCENDENTE  6600   \n",
       "7577  31/3/2022    13       AU FRONDIZI      ASCENDENTE  1900   \n",
       "7578  31/3/2022    17       AV. CANTILO      ASCENDENTE  9700   \n",
       "\n",
       "     condiciones_meteorologicas superficie_de_la_via lesionados  fallecidos  \\\n",
       "0                         BUENO                 SECA          1           0   \n",
       "1                         BUENO                 SECA          0           0   \n",
       "2                         BUENO                 SECA          8           0   \n",
       "3                         BUENO                 SECA          0           0   \n",
       "4                         BUENO                 SECA          1           0   \n",
       "...                         ...                  ...        ...         ...   \n",
       "7574                      BUENO                 SECA          1           0   \n",
       "7575                      BUENO                 SECA          2           0   \n",
       "7576                      BUENO                 SECA          1           0   \n",
       "7577                      BUENO                 SECA          0           0   \n",
       "7578                      BUENO                 SECA          0           1   \n",
       "\n",
       "                     tipo_de_siniestro moto  liviano  bus  camion  \n",
       "0          COLISION CON OBSTACULO FIJO    0        1    0       0  \n",
       "1          COLISION CON OBSTACULO FIJO    0        1    0       0  \n",
       "2     COLISION CON DOS O MAS VEHICULOS    0        2    0       0  \n",
       "3                    OBSTACULO NO FIJO    0        0    0       1  \n",
       "4          COLISION CON OBSTACULO FIJO    0        2    0       0  \n",
       "...                                ...  ...      ...  ...     ...  \n",
       "7574  COLISION CON DOS O MAS VEHICULOS    1        1    0       0  \n",
       "7575  COLISION CON DOS O MAS VEHICULOS    0        3    0       1  \n",
       "7576  COLISION CON DOS O MAS VEHICULOS    1        2    0       1  \n",
       "7577  COLISION CON DOS O MAS VEHICULOS    0        1    1       0  \n",
       "7578  COLISION CON DOS O MAS VEHICULOS    1        0    0       1  \n",
       "\n",
       "[7579 rows x 14 columns]"
      ]
     },
     "execution_count": 6,
     "metadata": {},
     "output_type": "execute_result"
    }
   ],
   "source": [
    "df = pandas.DataFrame(data, columns = ['fecha','hora','autopista','banda_y_o_ramal','pk','condiciones_meteorologicas','superficie_de_la_via','lesionados','fallecidos','tipo_de_siniestro','moto','liviano','bus','camion'\n",
    "])\n",
    "df"
   ]
  },
  {
   "cell_type": "code",
   "execution_count": 7,
   "id": "cd9eb330",
   "metadata": {},
   "outputs": [
    {
     "data": {
      "text/plain": [
       "'A continuacion se resuelven las hipostesis y los EDA'"
      ]
     },
     "execution_count": 7,
     "metadata": {},
     "output_type": "execute_result"
    }
   ],
   "source": [
    "# Elijo los datos a analizar\n",
    "'''A continuacion se resuelven las hipostesis y los EDA'''"
   ]
  },
  {
   "cell_type": "code",
   "execution_count": 8,
   "id": "d79b47bf",
   "metadata": {},
   "outputs": [
    {
     "data": {
      "image/png": "[encoded data removed]",
      "text/plain": [
       "<Figure size 432x288 with 1 Axes>"
      ]
     },
     "metadata": {
      "needs_background": "light"
     },
     "output_type": "display_data"
    }
   ],
   "source": [
    "\n",
    "# Variable independiente = hora en la que ocurren los accidentes\n",
    "# Variable dependiente = fallecidos \n",
    "import numpy as np\n",
    "from sklearn import datasets, linear_model\n",
    "import matplotlib.pyplot as plt\n",
    "\n",
    "#Cual es la cantidad de fallecidos por hora\n",
    "plt.bar(df.hora,df.fallecidos)\n",
    "plt.xlabel('Hora')\n",
    "plt.ylabel('Numero de muertes')\n",
    "plt.show()"
   ]
  },
  {
   "cell_type": "code",
   "execution_count": 9,
   "id": "27a3ec8d",
   "metadata": {},
   "outputs": [
    {
     "data": {
      "image/png": "[encoded data removed]",
      "text/plain": [
       "<Figure size 432x288 with 1 Axes>"
      ]
     },
     "metadata": {
      "needs_background": "light"
     },
     "output_type": "display_data"
    }
   ],
   "source": [
    "# Elijo los datos a analizar\n",
    "\n",
    "# Variable independiente = camion \n",
    "# Variable dependiente = fallecidos \n",
    "import numpy as np\n",
    "from sklearn import datasets, linear_model\n",
    "import matplotlib.pyplot as plt\n",
    "\n",
    "#Cual es la cantidad de muertes que manjean camiones\n",
    "plt.bar(df.camion,df.fallecidos)\n",
    "plt.xlabel('Numero de camiones')\n",
    "plt.ylabel('Numero de muertes')\n",
    "plt.show()"
   ]
  },
  {
   "cell_type": "code",
   "execution_count": 10,
   "id": "46afb681",
   "metadata": {},
   "outputs": [
    {
     "data": {
      "image/png": "[encoded data removed]",
      "text/plain": [
       "<Figure size 432x288 with 1 Axes>"
      ]
     },
     "metadata": {
      "needs_background": "light"
     },
     "output_type": "display_data"
    }
   ],
   "source": [
    "import matplotlib.pyplot as plt\n",
    "#Cual es la cantidad de fallecidos dependiendo del clima\n",
    "plt.bar(df['fallecidos'], df['condiciones_meteorologicas'])\n",
    "plt.xlabel('Numero de fallecidos')\n",
    "plt.ylabel('Clima')\n",
    "plt.show()\n"
   ]
  },
  {
   "cell_type": "code",
   "execution_count": 11,
   "id": "977197d7",
   "metadata": {},
   "outputs": [
    {
     "data": {
      "image/png": "[encoded data removed]",
      "text/plain": [
       "<Figure size 432x288 with 1 Axes>"
      ]
     },
     "metadata": {
      "needs_background": "light"
     },
     "output_type": "display_data"
    }
   ],
   "source": [
    "import matplotlib.pyplot as plt\n",
    "#Cual es la cantidad de lesionados dependiendo del clima\n",
    "plt.bar(data['condiciones_meteorologicas'], data['lesionados'])\n",
    "plt.xlabel(\"Clima\")\n",
    "plt.ylabel(\"Lesionados\")\n",
    "plt.show()"
   ]
  },
  {
   "cell_type": "code",
   "execution_count": 12,
   "id": "d049b067",
   "metadata": {},
   "outputs": [
    {
     "name": "stderr",
     "output_type": "stream",
     "text": [
      "C:\\Users\\camicha\\anaconda3\\lib\\site-packages\\seaborn\\distributions.py:2619: FutureWarning: `distplot` is a deprecated function and will be removed in a future version. Please adapt your code to use either `displot` (a figure-level function with similar flexibility) or `histplot` (an axes-level function for histograms).\n",
      "  warnings.warn(msg, FutureWarning)\n"
     ]
    },
    {
     "data": {
      "text/plain": [
       "<AxesSubplot:xlabel='fallecidos', ylabel='Density'>"
      ]
     },
     "execution_count": 12,
     "metadata": {},
     "output_type": "execute_result"
    },
    {
     "data": {
      "image/png": "[encoded data removed]",
      "text/plain": [
       "<Figure size 432x288 with 1 Axes>"
      ]
     },
     "metadata": {
      "needs_background": "light"
     },
     "output_type": "display_data"
    }
   ],
   "source": [
    "import seaborn as sns\n",
    "#Diagrama utilizado para ver como se comportan las distribuciones de los fallecidos\n",
    "sns.distplot(data['fallecidos'])"
   ]
  },
  {
   "cell_type": "code",
   "execution_count": 13,
   "id": "f2b587d2",
   "metadata": {},
   "outputs": [
    {
     "name": "stderr",
     "output_type": "stream",
     "text": [
      "C:\\Users\\camicha\\anaconda3\\lib\\site-packages\\seaborn\\distributions.py:2619: FutureWarning: `distplot` is a deprecated function and will be removed in a future version. Please adapt your code to use either `displot` (a figure-level function with similar flexibility) or `histplot` (an axes-level function for histograms).\n",
      "  warnings.warn(msg, FutureWarning)\n"
     ]
    },
    {
     "data": {
      "text/plain": [
       "<AxesSubplot:xlabel='hora', ylabel='Density'>"
      ]
     },
     "execution_count": 13,
     "metadata": {},
     "output_type": "execute_result"
    },
    {
     "data": {
      "image/png": "[encoded data removed]",
      "text/plain": [
       "<Figure size 432x288 with 1 Axes>"
      ]
     },
     "metadata": {
      "needs_background": "light"
     },
     "output_type": "display_data"
    }
   ],
   "source": [
    "#Diagrama utilizado para ver como se comportan las distribuciones de las horas en las que ocurren los accidentes\n",
    "\n",
    "sns.distplot(data['hora'])\n"
   ]
  },
  {
   "cell_type": "code",
   "execution_count": 14,
   "id": "96eabdf9",
   "metadata": {},
   "outputs": [
    {
     "name": "stderr",
     "output_type": "stream",
     "text": [
      "C:\\Users\\camicha\\anaconda3\\lib\\site-packages\\seaborn\\_decorators.py:36: FutureWarning: Pass the following variable as a keyword arg: x. From version 0.12, the only valid positional argument will be `data`, and passing other arguments without an explicit keyword will result in an error or misinterpretation.\n",
      "  warnings.warn(\n"
     ]
    },
    {
     "data": {
      "text/plain": [
       "<AxesSubplot:xlabel='fallecidos'>"
      ]
     },
     "execution_count": 14,
     "metadata": {},
     "output_type": "execute_result"
    },
    {
     "data": {
      "image/png": "[encoded data removed]",
      "text/plain": [
       "<Figure size 432x288 with 1 Axes>"
      ]
     },
     "metadata": {
      "needs_background": "light"
     },
     "output_type": "display_data"
    }
   ],
   "source": [
    "#Informacion sobre el mínimo, el primer cuartil, el medio, el tercer cuartil y los valores máximos de los fallecidos\n",
    "sns.boxplot(data['fallecidos'])"
   ]
  },
  {
   "cell_type": "code",
   "execution_count": 15,
   "id": "d6e11b25",
   "metadata": {
    "scrolled": true
   },
   "outputs": [
    {
     "data": {
      "text/plain": [
       "<AxesSubplot:xlabel='bus', ylabel='Density'>"
      ]
     },
     "execution_count": 15,
     "metadata": {},
     "output_type": "execute_result"
    },
    {
     "data": {
      "image/png": "[encoded data removed]",
      "text/plain": [
       "<Figure size 432x288 with 1 Axes>"
      ]
     },
     "metadata": {
      "needs_background": "light"
     },
     "output_type": "display_data"
    }
   ],
   "source": [
    "#Distribucion de los autobuses \n",
    "sns.kdeplot(df[\"bus\"])"
   ]
  },
  {
   "cell_type": "code",
   "execution_count": 16,
   "id": "87a2ee15",
   "metadata": {},
   "outputs": [
    {
     "data": {
      "text/plain": [
       "'\\nEste dataset muestra los accidentes viales y los reclamos que se produjeron en Buenos Aires desde Enero 2014 hasta Marzo 2022.\\nIndicando la fecha y la hora exacta donde se produjo  el accidente, el autopista, la altura, la banda  y/o ramal del lugar de dicho accidente, el clima, y el estado de la ruta (ej: seca, mojada) del mismo, la cantidad de lesionados, la cantidad de fallecidos, el tipo de accidente (por ejemplo: choque entre 2 autos, o choque de un camion con una moto, entre otros) y por ultimo cuales fueron los protagonistas (moto, auto, bus, entre otros).\\nLos relcamos tienen un nro de reclamo, una fecha y un nombre/titulo del reclamo.\\nBasicamente lo que queremos lograr con estos datos, es realizar un analisis especifico para obtener resultados como por ejemplo: \\n    - Cual es el tipo de vehiculo que en mas accidentes participa\\n    - Cual es la cantidad de fallecidos o de lesionados por un accidente con un vehiculo especifico\\n    - Cual es la hora donde mas accidentes ocurren\\n    - Cual es la cantidad de fallecidos / lesionados dependiendo del clima\\n'"
      ]
     },
     "execution_count": 16,
     "metadata": {},
     "output_type": "execute_result"
    }
   ],
   "source": [
    "#Abstract Dataset\n",
    "'''\n",
    "Este dataset muestra los accidentes viales y los reclamos que se produjeron en Buenos Aires desde Enero 2014 hasta Marzo 2022.\n",
    "Indicando la fecha y la hora exacta donde se produjo  el accidente, el autopista, la altura, la banda  y/o ramal del lugar de dicho accidente, el clima, y el estado de la ruta (ej: seca, mojada) del mismo, la cantidad de lesionados, la cantidad de fallecidos, el tipo de accidente (por ejemplo: choque entre 2 autos, o choque de un camion con una moto, entre otros) y por ultimo cuales fueron los protagonistas (moto, auto, bus, entre otros).\n",
    "Los relcamos tienen un nro de reclamo, una fecha y un nombre/titulo del reclamo.\n",
    "Basicamente lo que queremos lograr con estos datos, es realizar un analisis especifico para obtener resultados como por ejemplo: \n",
    "    - Cual es el tipo de vehiculo que en mas accidentes participa\n",
    "    - Cual es la cantidad de fallecidos o de lesionados por un accidente con un vehiculo especifico\n",
    "    - Cual es la hora donde mas accidentes ocurren\n",
    "    - Cual es la cantidad de fallecidos / lesionados dependiendo del clima\n",
    "'''\n"
   ]
  },
  {
   "cell_type": "code",
   "execution_count": 17,
   "id": "11ce9d02",
   "metadata": {},
   "outputs": [],
   "source": [
    "import matplotlib.pyplot as plt\n",
    "import numpy as np\n",
    "import pandas as pd\n",
    "import scipy\n",
    "import seaborn as sns\n",
    "import sklearn # Paquete base de ML\n",
    "\n",
    "from scipy.stats import norm\n",
    "from sklearn.cluster import KMeans\n",
    "from sklearn.preprocessing import MinMaxScaler, MaxAbsScaler, RobustScaler, StandardScaler\n",
    "\n",
    "%matplotlib inline"
   ]
  },
  {
   "cell_type": "code",
   "execution_count": 56,
   "id": "f05ecd70",
   "metadata": {},
   "outputs": [
    {
     "data": {
      "text/html": [
       "<div>\n",
       "<style scoped>\n",
       "    .dataframe tbody tr th:only-of-type {\n",
       "        vertical-align: middle;\n",
       "    }\n",
       "\n",
       "    .dataframe tbody tr th {\n",
       "        vertical-align: top;\n",
       "    }\n",
       "\n",
       "    .dataframe thead th {\n",
       "        text-align: right;\n",
       "    }\n",
       "</style>\n",
       "<table border=\"1\" class=\"dataframe\">\n",
       "  <thead>\n",
       "    <tr style=\"text-align: right;\">\n",
       "      <th></th>\n",
       "      <th>fecha</th>\n",
       "      <th>hora</th>\n",
       "      <th>condiciones_meteorologicas</th>\n",
       "      <th>fallecidos</th>\n",
       "    </tr>\n",
       "  </thead>\n",
       "  <tbody>\n",
       "    <tr>\n",
       "      <th>0</th>\n",
       "      <td>1/1/2014</td>\n",
       "      <td>1</td>\n",
       "      <td>BUENO</td>\n",
       "      <td>0</td>\n",
       "    </tr>\n",
       "    <tr>\n",
       "      <th>1</th>\n",
       "      <td>1/1/2014</td>\n",
       "      <td>3</td>\n",
       "      <td>BUENO</td>\n",
       "      <td>0</td>\n",
       "    </tr>\n",
       "    <tr>\n",
       "      <th>2</th>\n",
       "      <td>1/1/2014</td>\n",
       "      <td>22</td>\n",
       "      <td>BUENO</td>\n",
       "      <td>0</td>\n",
       "    </tr>\n",
       "    <tr>\n",
       "      <th>3</th>\n",
       "      <td>1/3/2014</td>\n",
       "      <td>7</td>\n",
       "      <td>BUENO</td>\n",
       "      <td>0</td>\n",
       "    </tr>\n",
       "    <tr>\n",
       "      <th>4</th>\n",
       "      <td>1/3/2014</td>\n",
       "      <td>21</td>\n",
       "      <td>BUENO</td>\n",
       "      <td>0</td>\n",
       "    </tr>\n",
       "  </tbody>\n",
       "</table>\n",
       "</div>"
      ],
      "text/plain": [
       "      fecha  hora condiciones_meteorologicas  fallecidos\n",
       "0  1/1/2014     1                      BUENO           0\n",
       "1  1/1/2014     3                      BUENO           0\n",
       "2  1/1/2014    22                      BUENO           0\n",
       "3  1/3/2014     7                      BUENO           0\n",
       "4  1/3/2014    21                      BUENO           0"
      ]
     },
     "execution_count": 56,
     "metadata": {},
     "output_type": "execute_result"
    }
   ],
   "source": [
    "dataF= df[['fecha','hora','condiciones_meteorologicas','fallecidos']]\n",
    "dataF.head(5)"
   ]
  },
  {
   "cell_type": "code",
   "execution_count": 65,
   "id": "8dac9fce",
   "metadata": {},
   "outputs": [],
   "source": [
    "df_muertosClima = df[df['condiciones_meteorologicas'] == 'BUENO']\n",
    "columnaX =df_muertosClima['hora']"
   ]
  },
  {
   "cell_type": "code",
   "execution_count": 72,
   "id": "858a4477",
   "metadata": {},
   "outputs": [
    {
     "data": {
      "image/png": "[encoded data removed]",
      "text/plain": [
       "<Figure size 576x432 with 1 Axes>"
      ]
     },
     "metadata": {
      "needs_background": "light"
     },
     "output_type": "display_data"
    }
   ],
   "source": [
    "# Dependiendo del clima \n",
    "plt.figure(figsize=(8,6))\n",
    "df_muertosClima = df_muertosClima[df_muertosClima['condiciones_meteorologicas'] == 'BUENO']\n",
    "columnaX = df_muertosClima['hora']\n",
    "# Crear la densidad\n",
    "sns.distplot(columnaX, bins=10, kde=False)\n",
    "plt.title('Horas donde el clima esta \"Bueno\"', fontsize=16)\n",
    "plt.xlabel('Horas', fontsize=14)\n",
    "plt.xticks(fontsize=12)\n",
    "plt.ylabel('Density', fontsize=14)\n",
    "plt.yticks(fontsize=12)\n",
    "plt.show()"
   ]
  },
  {
   "cell_type": "code",
   "execution_count": null,
   "id": "5a7ff40d",
   "metadata": {},
   "outputs": [],
   "source": []
  }
 ],
 "metadata": {
  "kernelspec": {
   "display_name": "Python 3 (ipykernel)",
   "language": "python",
   "name": "python3"
  },
  "language_info": {
   "codemirror_mode": {
    "name": "ipython",
    "version": 3
   },
   "file_extension": ".py",
   "mimetype": "text/x-python",
   "name": "python",
   "nbconvert_exporter": "python",
   "pygments_lexer": "ipython3",
   "version": "3.9.12"
  }
 },
 "nbformat": 4,
 "nbformat_minor": 5
}
